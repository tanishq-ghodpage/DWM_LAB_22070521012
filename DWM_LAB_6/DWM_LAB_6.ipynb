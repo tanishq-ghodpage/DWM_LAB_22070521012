{
  "nbformat": 4,
  "nbformat_minor": 0,
  "metadata": {
    "colab": {
      "provenance": []
    },
    "kernelspec": {
      "name": "python3",
      "display_name": "Python 3"
    },
    "language_info": {
      "name": "python"
    }
  },
  "cells": [
    {
      "cell_type": "code",
      "source": [
        "import pandas as pd"
      ],
      "metadata": {
        "id": "nGWnoDshbj0O"
      },
      "execution_count": 2,
      "outputs": []
    },
    {
      "cell_type": "code",
      "execution_count": 1,
      "metadata": {
        "id": "Lu75wXv9aySl"
      },
      "outputs": [],
      "source": [
        "data={\n",
        "\n",
        "      'ID': [1,2,3,4,5,6],\n",
        "      'Name': ['Tanishq','Sarvesh','Avantika','Ruthvek','Pradnya','Aditi'],\n",
        "      'Age' : [25,30,35,40,45,21],\n",
        "      'Country' : ['Maharashtra','Tamil Nadu','Kerala','Goa','Uttar Pradesh','Madhya Pradesh'],\n",
        "      'Sales': [200,450,300,800,150,400]\n",
        "\n",
        "}"
      ]
    },
    {
      "cell_type": "code",
      "source": [
        "df=pd.DataFrame(data)\n",
        "\n",
        "print(\"Orginal Dataset\")\n",
        "print(df)"
      ],
      "metadata": {
        "colab": {
          "base_uri": "https://localhost:8080/"
        },
        "id": "oT3gpyhucQ-2",
        "outputId": "d44298b3-1991-41ec-e938-9c591696e964"
      },
      "execution_count": 3,
      "outputs": [
        {
          "output_type": "stream",
          "name": "stdout",
          "text": [
            "Orginal Dataset\n",
            "   ID      Name  Age         Country  Sales\n",
            "0   1   Tanishq   25     Maharashtra    200\n",
            "1   2   Sarvesh   30      Tamil Nadu    450\n",
            "2   3  Avantika   35          Kerala    300\n",
            "3   4   Ruthvek   40             Goa    800\n",
            "4   5   Pradnya   45   Uttar Pradesh    150\n",
            "5   6     Aditi   21  Madhya Pradesh    400\n"
          ]
        }
      ]
    },
    {
      "cell_type": "code",
      "source": [
        "df['Name_Upper']=df['Name'].str.upper()\n",
        "\n",
        "print(\"Dataset after adding new column\")\n",
        "print(df[['ID','Name','Name_Upper']])"
      ],
      "metadata": {
        "colab": {
          "base_uri": "https://localhost:8080/"
        },
        "id": "cMpb2JMvceUC",
        "outputId": "cd322dd9-4314-4180-af38-2956f4da720b"
      },
      "execution_count": 4,
      "outputs": [
        {
          "output_type": "stream",
          "name": "stdout",
          "text": [
            "Dataset after adding new column\n",
            "   ID      Name Name_Upper\n",
            "0   1   Tanishq    TANISHQ\n",
            "1   2   Sarvesh    SARVESH\n",
            "2   3  Avantika   AVANTIKA\n",
            "3   4   Ruthvek    RUTHVEK\n",
            "4   5   Pradnya    PRADNYA\n",
            "5   6     Aditi      ADITI\n"
          ]
        }
      ]
    },
    {
      "cell_type": "code",
      "source": [
        "df_copy1=df.copy()\n",
        "df_copy2=df.copy()\n",
        "\n",
        "df_copy1['Sales'] *= 1.1\n",
        "df_copy2['Age'] += 5\n",
        "\n",
        "print(\"\\nMulticast (Modified Copies):\")\n",
        "print(\"Copy 1 (Sales Increased):\")\n",
        "print(df_copy1)\n",
        "print(\"\\nCopy 2 (Age Increased):\")\n",
        "print(df_copy2)"
      ],
      "metadata": {
        "colab": {
          "base_uri": "https://localhost:8080/"
        },
        "id": "tMvcC4rVdZVU",
        "outputId": "38e30f90-85b4-415f-86e2-6dcb513951a0"
      },
      "execution_count": 5,
      "outputs": [
        {
          "output_type": "stream",
          "name": "stdout",
          "text": [
            "\n",
            "Multicast (Modified Copies):\n",
            "Copy 1 (Sales Increased):\n",
            "   ID      Name  Age         Country  Sales Name_Upper\n",
            "0   1   Tanishq   25     Maharashtra  220.0    TANISHQ\n",
            "1   2   Sarvesh   30      Tamil Nadu  495.0    SARVESH\n",
            "2   3  Avantika   35          Kerala  330.0   AVANTIKA\n",
            "3   4   Ruthvek   40             Goa  880.0    RUTHVEK\n",
            "4   5   Pradnya   45   Uttar Pradesh  165.0    PRADNYA\n",
            "5   6     Aditi   21  Madhya Pradesh  440.0      ADITI\n",
            "\n",
            "Copy 2 (Age Increased):\n",
            "   ID      Name  Age         Country  Sales Name_Upper\n",
            "0   1   Tanishq   30     Maharashtra    200    TANISHQ\n",
            "1   2   Sarvesh   35      Tamil Nadu    450    SARVESH\n",
            "2   3  Avantika   40          Kerala    300   AVANTIKA\n",
            "3   4   Ruthvek   45             Goa    800    RUTHVEK\n",
            "4   5   Pradnya   50   Uttar Pradesh    150    PRADNYA\n",
            "5   6     Aditi   26  Madhya Pradesh    400      ADITI\n"
          ]
        }
      ]
    },
    {
      "cell_type": "code",
      "source": [
        "high_sales=df[df['Sales']>300]\n",
        "low_sales=df[df['Sales']<=300]\n",
        "print(\"\\nConditional Split:\")\n",
        "print(\"High Sales:\")\n",
        "print(high_sales)\n",
        "print(\"\\nLow Sales:\")\n",
        "print(low_sales)"
      ],
      "metadata": {
        "colab": {
          "base_uri": "https://localhost:8080/"
        },
        "id": "NqX3vYK6fXG6",
        "outputId": "6f25629d-4a00-4aaf-ae5f-542c4c61a8c6"
      },
      "execution_count": 6,
      "outputs": [
        {
          "output_type": "stream",
          "name": "stdout",
          "text": [
            "\n",
            "Conditional Split:\n",
            "High Sales:\n",
            "   ID     Name  Age         Country  Sales Name_Upper\n",
            "1   2  Sarvesh   30      Tamil Nadu    450    SARVESH\n",
            "3   4  Ruthvek   40             Goa    800    RUTHVEK\n",
            "5   6    Aditi   21  Madhya Pradesh    400      ADITI\n",
            "\n",
            "Low Sales:\n",
            "   ID      Name  Age        Country  Sales Name_Upper\n",
            "0   1   Tanishq   25    Maharashtra    200    TANISHQ\n",
            "2   3  Avantika   35         Kerala    300   AVANTIKA\n",
            "4   5   Pradnya   45  Uttar Pradesh    150    PRADNYA\n"
          ]
        }
      ]
    },
    {
      "cell_type": "code",
      "source": [
        "agg_df=df.groupby('Country')['Sales'].sum().reset_index()\n",
        "print(\"\\nAggregation:\")\n",
        "print(agg_df)"
      ],
      "metadata": {
        "colab": {
          "base_uri": "https://localhost:8080/"
        },
        "id": "lNTFgCA0hIW2",
        "outputId": "fc36e2f0-6075-448c-9923-43177643f837"
      },
      "execution_count": 7,
      "outputs": [
        {
          "output_type": "stream",
          "name": "stdout",
          "text": [
            "\n",
            "Aggregation:\n",
            "          Country  Sales\n",
            "0             Goa    800\n",
            "1          Kerala    300\n",
            "2  Madhya Pradesh    400\n",
            "3     Maharashtra    200\n",
            "4      Tamil Nadu    450\n",
            "5   Uttar Pradesh    150\n"
          ]
        }
      ]
    },
    {
      "cell_type": "code",
      "source": [
        "sorted_df=df.sort_values(by='Sales',ascending=False)\n",
        "print(\"\\nSorted Data:\")\n",
        "print(sorted_df)"
      ],
      "metadata": {
        "colab": {
          "base_uri": "https://localhost:8080/"
        },
        "id": "zO8OV6EhmDHO",
        "outputId": "9c13036c-c053-4e3c-886d-abb32e382bde"
      },
      "execution_count": 8,
      "outputs": [
        {
          "output_type": "stream",
          "name": "stdout",
          "text": [
            "\n",
            "Sorted Data:\n",
            "   ID      Name  Age         Country  Sales Name_Upper\n",
            "3   4   Ruthvek   40             Goa    800    RUTHVEK\n",
            "1   2   Sarvesh   30      Tamil Nadu    450    SARVESH\n",
            "5   6     Aditi   21  Madhya Pradesh    400      ADITI\n",
            "2   3  Avantika   35          Kerala    300   AVANTIKA\n",
            "0   1   Tanishq   25     Maharashtra    200    TANISHQ\n",
            "4   5   Pradnya   45   Uttar Pradesh    150    PRADNYA\n"
          ]
        }
      ]
    },
    {
      "cell_type": "code",
      "source": [
        "df['Sales_Category']=df['Sales'].apply(lambda x: 'High' if x>300 else 'Low')\n",
        "print(\"\\nDerived Column (Sales Category):\")\n",
        "print(df[['ID','Name','Sales','Sales_Category']])"
      ],
      "metadata": {
        "colab": {
          "base_uri": "https://localhost:8080/"
        },
        "id": "UNX96Knon9yG",
        "outputId": "66ffd847-a7cb-44eb-9dc5-140e5ab52585"
      },
      "execution_count": 9,
      "outputs": [
        {
          "output_type": "stream",
          "name": "stdout",
          "text": [
            "\n",
            "Derived Column (Sales Category):\n",
            "   ID      Name  Sales Sales_Category\n",
            "0   1   Tanishq    200            Low\n",
            "1   2   Sarvesh    450           High\n",
            "2   3  Avantika    300            Low\n",
            "3   4   Ruthvek    800           High\n",
            "4   5   Pradnya    150            Low\n",
            "5   6     Aditi    400           High\n"
          ]
        }
      ]
    }
  ]
}